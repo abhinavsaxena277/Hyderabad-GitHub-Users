{
  "nbformat": 4,
  "nbformat_minor": 0,
  "metadata": {
    "colab": {
      "provenance": []
    },
    "kernelspec": {
      "name": "python3",
      "display_name": "Python 3"
    },
    "language_info": {
      "name": "python"
    }
  },
  "cells": [
    {
      "cell_type": "markdown",
      "source": [
        "## TDS PROJECT- 1\n",
        "### Name: Abhinav Saxena"
      ],
      "metadata": {
        "id": "AXJ8CBXUr3Rh"
      }
    },
    {
      "cell_type": "code",
      "execution_count": 25,
      "metadata": {
        "id": "r5_EuBTXn4KB"
      },
      "outputs": [],
      "source": [
        "import pandas as pd\n",
        "import numpy as np\n",
        "from scipy.stats import pearsonr\n",
        "from sklearn.linear_model import LinearRegression"
      ]
    },
    {
      "cell_type": "code",
      "source": [
        "users_df = pd.read_csv(\"/content/Data/users.csv\")\n",
        "repos_df = pd.read_csv(\"/content/Data/repositories.csv\")"
      ],
      "metadata": {
        "id": "e7aaI1IpoFCa"
      },
      "execution_count": 26,
      "outputs": []
    },
    {
      "cell_type": "code",
      "source": [
        "users_df.head()"
      ],
      "metadata": {
        "colab": {
          "base_uri": "https://localhost:8080/",
          "height": 313
        },
        "id": "gPlNqd_-ohj3",
        "outputId": "5cbf751a-b3e2-4ea2-a0ad-21bfdb11e214"
      },
      "execution_count": 27,
      "outputs": [
        {
          "output_type": "execute_result",
          "data": {
            "text/plain": [
              "             login                 name                   company  \\\n",
              "0   iam-veeramalla  Abhishek Veeramalla                   RED HAT   \n",
              "1      in28minutes                  NaN               IN28MINUTES   \n",
              "2    stacksimplify        STACKSIMPLIFY             STACKSIMPLIFY   \n",
              "3  thenaveensaggam        NAVEEN SAGGAM  HTTPS://WWW.UIBRAINS.COM   \n",
              "4       MadhavBahl          MADHAV BAHL                 MICROSOFT   \n",
              "\n",
              "           location                      email hireable  \\\n",
              "0  Hyderabad, India                        NaN      NaN   \n",
              "1  Hyderabad, India      in28minutes@gmail.com     True   \n",
              "2         Hyderabad    stacksimplify@gmail.com      NaN   \n",
              "3         Hyderabad  thenaveensaggam@gmail.com      NaN   \n",
              "4  Hyderabad, India     madhavbahl10@gmail.com     True   \n",
              "\n",
              "                                                 bio  public_repos  followers  \\\n",
              "0  Keep learning, sharing and growing || Principa...            45      16237   \n",
              "1  Helping 1 Million Learners learn Programming, ...           102      14368   \n",
              "2  Best Selling Instructor on Udemy - 2,10,000 St...            47       3233   \n",
              "3  Founder: UiBrains Technologies\\r\\nEnthusiastic...            43       2164   \n",
              "4  The Lean Programmer | Software Engineer @Micro...           128       1589   \n",
              "\n",
              "   following            created_at  \n",
              "0          1  2018-09-19T05:58:52Z  \n",
              "1          0  2015-09-05T14:09:58Z  \n",
              "2          0  2019-03-07T11:25:23Z  \n",
              "3          1  2017-02-18T18:44:26Z  \n",
              "4          1  2017-03-04T06:16:43Z  "
            ],
            "text/html": [
              "\n",
              "  <div id=\"df-2506b0e7-ba02-456c-91fa-1ca0966b9513\" class=\"colab-df-container\">\n",
              "    <div>\n",
              "<style scoped>\n",
              "    .dataframe tbody tr th:only-of-type {\n",
              "        vertical-align: middle;\n",
              "    }\n",
              "\n",
              "    .dataframe tbody tr th {\n",
              "        vertical-align: top;\n",
              "    }\n",
              "\n",
              "    .dataframe thead th {\n",
              "        text-align: right;\n",
              "    }\n",
              "</style>\n",
              "<table border=\"1\" class=\"dataframe\">\n",
              "  <thead>\n",
              "    <tr style=\"text-align: right;\">\n",
              "      <th></th>\n",
              "      <th>login</th>\n",
              "      <th>name</th>\n",
              "      <th>company</th>\n",
              "      <th>location</th>\n",
              "      <th>email</th>\n",
              "      <th>hireable</th>\n",
              "      <th>bio</th>\n",
              "      <th>public_repos</th>\n",
              "      <th>followers</th>\n",
              "      <th>following</th>\n",
              "      <th>created_at</th>\n",
              "    </tr>\n",
              "  </thead>\n",
              "  <tbody>\n",
              "    <tr>\n",
              "      <th>0</th>\n",
              "      <td>iam-veeramalla</td>\n",
              "      <td>Abhishek Veeramalla</td>\n",
              "      <td>RED HAT</td>\n",
              "      <td>Hyderabad, India</td>\n",
              "      <td>NaN</td>\n",
              "      <td>NaN</td>\n",
              "      <td>Keep learning, sharing and growing || Principa...</td>\n",
              "      <td>45</td>\n",
              "      <td>16237</td>\n",
              "      <td>1</td>\n",
              "      <td>2018-09-19T05:58:52Z</td>\n",
              "    </tr>\n",
              "    <tr>\n",
              "      <th>1</th>\n",
              "      <td>in28minutes</td>\n",
              "      <td>NaN</td>\n",
              "      <td>IN28MINUTES</td>\n",
              "      <td>Hyderabad, India</td>\n",
              "      <td>in28minutes@gmail.com</td>\n",
              "      <td>True</td>\n",
              "      <td>Helping 1 Million Learners learn Programming, ...</td>\n",
              "      <td>102</td>\n",
              "      <td>14368</td>\n",
              "      <td>0</td>\n",
              "      <td>2015-09-05T14:09:58Z</td>\n",
              "    </tr>\n",
              "    <tr>\n",
              "      <th>2</th>\n",
              "      <td>stacksimplify</td>\n",
              "      <td>STACKSIMPLIFY</td>\n",
              "      <td>STACKSIMPLIFY</td>\n",
              "      <td>Hyderabad</td>\n",
              "      <td>stacksimplify@gmail.com</td>\n",
              "      <td>NaN</td>\n",
              "      <td>Best Selling Instructor on Udemy - 2,10,000 St...</td>\n",
              "      <td>47</td>\n",
              "      <td>3233</td>\n",
              "      <td>0</td>\n",
              "      <td>2019-03-07T11:25:23Z</td>\n",
              "    </tr>\n",
              "    <tr>\n",
              "      <th>3</th>\n",
              "      <td>thenaveensaggam</td>\n",
              "      <td>NAVEEN SAGGAM</td>\n",
              "      <td>HTTPS://WWW.UIBRAINS.COM</td>\n",
              "      <td>Hyderabad</td>\n",
              "      <td>thenaveensaggam@gmail.com</td>\n",
              "      <td>NaN</td>\n",
              "      <td>Founder: UiBrains Technologies\\r\\nEnthusiastic...</td>\n",
              "      <td>43</td>\n",
              "      <td>2164</td>\n",
              "      <td>1</td>\n",
              "      <td>2017-02-18T18:44:26Z</td>\n",
              "    </tr>\n",
              "    <tr>\n",
              "      <th>4</th>\n",
              "      <td>MadhavBahl</td>\n",
              "      <td>MADHAV BAHL</td>\n",
              "      <td>MICROSOFT</td>\n",
              "      <td>Hyderabad, India</td>\n",
              "      <td>madhavbahl10@gmail.com</td>\n",
              "      <td>True</td>\n",
              "      <td>The Lean Programmer | Software Engineer @Micro...</td>\n",
              "      <td>128</td>\n",
              "      <td>1589</td>\n",
              "      <td>1</td>\n",
              "      <td>2017-03-04T06:16:43Z</td>\n",
              "    </tr>\n",
              "  </tbody>\n",
              "</table>\n",
              "</div>\n",
              "    <div class=\"colab-df-buttons\">\n",
              "\n",
              "  <div class=\"colab-df-container\">\n",
              "    <button class=\"colab-df-convert\" onclick=\"convertToInteractive('df-2506b0e7-ba02-456c-91fa-1ca0966b9513')\"\n",
              "            title=\"Convert this dataframe to an interactive table.\"\n",
              "            style=\"display:none;\">\n",
              "\n",
              "  <svg xmlns=\"http://www.w3.org/2000/svg\" height=\"24px\" viewBox=\"0 -960 960 960\">\n",
              "    <path d=\"M120-120v-720h720v720H120Zm60-500h600v-160H180v160Zm220 220h160v-160H400v160Zm0 220h160v-160H400v160ZM180-400h160v-160H180v160Zm440 0h160v-160H620v160ZM180-180h160v-160H180v160Zm440 0h160v-160H620v160Z\"/>\n",
              "  </svg>\n",
              "    </button>\n",
              "\n",
              "  <style>\n",
              "    .colab-df-container {\n",
              "      display:flex;\n",
              "      gap: 12px;\n",
              "    }\n",
              "\n",
              "    .colab-df-convert {\n",
              "      background-color: #E8F0FE;\n",
              "      border: none;\n",
              "      border-radius: 50%;\n",
              "      cursor: pointer;\n",
              "      display: none;\n",
              "      fill: #1967D2;\n",
              "      height: 32px;\n",
              "      padding: 0 0 0 0;\n",
              "      width: 32px;\n",
              "    }\n",
              "\n",
              "    .colab-df-convert:hover {\n",
              "      background-color: #E2EBFA;\n",
              "      box-shadow: 0px 1px 2px rgba(60, 64, 67, 0.3), 0px 1px 3px 1px rgba(60, 64, 67, 0.15);\n",
              "      fill: #174EA6;\n",
              "    }\n",
              "\n",
              "    .colab-df-buttons div {\n",
              "      margin-bottom: 4px;\n",
              "    }\n",
              "\n",
              "    [theme=dark] .colab-df-convert {\n",
              "      background-color: #3B4455;\n",
              "      fill: #D2E3FC;\n",
              "    }\n",
              "\n",
              "    [theme=dark] .colab-df-convert:hover {\n",
              "      background-color: #434B5C;\n",
              "      box-shadow: 0px 1px 3px 1px rgba(0, 0, 0, 0.15);\n",
              "      filter: drop-shadow(0px 1px 2px rgba(0, 0, 0, 0.3));\n",
              "      fill: #FFFFFF;\n",
              "    }\n",
              "  </style>\n",
              "\n",
              "    <script>\n",
              "      const buttonEl =\n",
              "        document.querySelector('#df-2506b0e7-ba02-456c-91fa-1ca0966b9513 button.colab-df-convert');\n",
              "      buttonEl.style.display =\n",
              "        google.colab.kernel.accessAllowed ? 'block' : 'none';\n",
              "\n",
              "      async function convertToInteractive(key) {\n",
              "        const element = document.querySelector('#df-2506b0e7-ba02-456c-91fa-1ca0966b9513');\n",
              "        const dataTable =\n",
              "          await google.colab.kernel.invokeFunction('convertToInteractive',\n",
              "                                                    [key], {});\n",
              "        if (!dataTable) return;\n",
              "\n",
              "        const docLinkHtml = 'Like what you see? Visit the ' +\n",
              "          '<a target=\"_blank\" href=https://colab.research.google.com/notebooks/data_table.ipynb>data table notebook</a>'\n",
              "          + ' to learn more about interactive tables.';\n",
              "        element.innerHTML = '';\n",
              "        dataTable['output_type'] = 'display_data';\n",
              "        await google.colab.output.renderOutput(dataTable, element);\n",
              "        const docLink = document.createElement('div');\n",
              "        docLink.innerHTML = docLinkHtml;\n",
              "        element.appendChild(docLink);\n",
              "      }\n",
              "    </script>\n",
              "  </div>\n",
              "\n",
              "\n",
              "<div id=\"df-3a50d114-3acb-4d51-a522-1c264fdc12ed\">\n",
              "  <button class=\"colab-df-quickchart\" onclick=\"quickchart('df-3a50d114-3acb-4d51-a522-1c264fdc12ed')\"\n",
              "            title=\"Suggest charts\"\n",
              "            style=\"display:none;\">\n",
              "\n",
              "<svg xmlns=\"http://www.w3.org/2000/svg\" height=\"24px\"viewBox=\"0 0 24 24\"\n",
              "     width=\"24px\">\n",
              "    <g>\n",
              "        <path d=\"M19 3H5c-1.1 0-2 .9-2 2v14c0 1.1.9 2 2 2h14c1.1 0 2-.9 2-2V5c0-1.1-.9-2-2-2zM9 17H7v-7h2v7zm4 0h-2V7h2v10zm4 0h-2v-4h2v4z\"/>\n",
              "    </g>\n",
              "</svg>\n",
              "  </button>\n",
              "\n",
              "<style>\n",
              "  .colab-df-quickchart {\n",
              "      --bg-color: #E8F0FE;\n",
              "      --fill-color: #1967D2;\n",
              "      --hover-bg-color: #E2EBFA;\n",
              "      --hover-fill-color: #174EA6;\n",
              "      --disabled-fill-color: #AAA;\n",
              "      --disabled-bg-color: #DDD;\n",
              "  }\n",
              "\n",
              "  [theme=dark] .colab-df-quickchart {\n",
              "      --bg-color: #3B4455;\n",
              "      --fill-color: #D2E3FC;\n",
              "      --hover-bg-color: #434B5C;\n",
              "      --hover-fill-color: #FFFFFF;\n",
              "      --disabled-bg-color: #3B4455;\n",
              "      --disabled-fill-color: #666;\n",
              "  }\n",
              "\n",
              "  .colab-df-quickchart {\n",
              "    background-color: var(--bg-color);\n",
              "    border: none;\n",
              "    border-radius: 50%;\n",
              "    cursor: pointer;\n",
              "    display: none;\n",
              "    fill: var(--fill-color);\n",
              "    height: 32px;\n",
              "    padding: 0;\n",
              "    width: 32px;\n",
              "  }\n",
              "\n",
              "  .colab-df-quickchart:hover {\n",
              "    background-color: var(--hover-bg-color);\n",
              "    box-shadow: 0 1px 2px rgba(60, 64, 67, 0.3), 0 1px 3px 1px rgba(60, 64, 67, 0.15);\n",
              "    fill: var(--button-hover-fill-color);\n",
              "  }\n",
              "\n",
              "  .colab-df-quickchart-complete:disabled,\n",
              "  .colab-df-quickchart-complete:disabled:hover {\n",
              "    background-color: var(--disabled-bg-color);\n",
              "    fill: var(--disabled-fill-color);\n",
              "    box-shadow: none;\n",
              "  }\n",
              "\n",
              "  .colab-df-spinner {\n",
              "    border: 2px solid var(--fill-color);\n",
              "    border-color: transparent;\n",
              "    border-bottom-color: var(--fill-color);\n",
              "    animation:\n",
              "      spin 1s steps(1) infinite;\n",
              "  }\n",
              "\n",
              "  @keyframes spin {\n",
              "    0% {\n",
              "      border-color: transparent;\n",
              "      border-bottom-color: var(--fill-color);\n",
              "      border-left-color: var(--fill-color);\n",
              "    }\n",
              "    20% {\n",
              "      border-color: transparent;\n",
              "      border-left-color: var(--fill-color);\n",
              "      border-top-color: var(--fill-color);\n",
              "    }\n",
              "    30% {\n",
              "      border-color: transparent;\n",
              "      border-left-color: var(--fill-color);\n",
              "      border-top-color: var(--fill-color);\n",
              "      border-right-color: var(--fill-color);\n",
              "    }\n",
              "    40% {\n",
              "      border-color: transparent;\n",
              "      border-right-color: var(--fill-color);\n",
              "      border-top-color: var(--fill-color);\n",
              "    }\n",
              "    60% {\n",
              "      border-color: transparent;\n",
              "      border-right-color: var(--fill-color);\n",
              "    }\n",
              "    80% {\n",
              "      border-color: transparent;\n",
              "      border-right-color: var(--fill-color);\n",
              "      border-bottom-color: var(--fill-color);\n",
              "    }\n",
              "    90% {\n",
              "      border-color: transparent;\n",
              "      border-bottom-color: var(--fill-color);\n",
              "    }\n",
              "  }\n",
              "</style>\n",
              "\n",
              "  <script>\n",
              "    async function quickchart(key) {\n",
              "      const quickchartButtonEl =\n",
              "        document.querySelector('#' + key + ' button');\n",
              "      quickchartButtonEl.disabled = true;  // To prevent multiple clicks.\n",
              "      quickchartButtonEl.classList.add('colab-df-spinner');\n",
              "      try {\n",
              "        const charts = await google.colab.kernel.invokeFunction(\n",
              "            'suggestCharts', [key], {});\n",
              "      } catch (error) {\n",
              "        console.error('Error during call to suggestCharts:', error);\n",
              "      }\n",
              "      quickchartButtonEl.classList.remove('colab-df-spinner');\n",
              "      quickchartButtonEl.classList.add('colab-df-quickchart-complete');\n",
              "    }\n",
              "    (() => {\n",
              "      let quickchartButtonEl =\n",
              "        document.querySelector('#df-3a50d114-3acb-4d51-a522-1c264fdc12ed button');\n",
              "      quickchartButtonEl.style.display =\n",
              "        google.colab.kernel.accessAllowed ? 'block' : 'none';\n",
              "    })();\n",
              "  </script>\n",
              "</div>\n",
              "\n",
              "    </div>\n",
              "  </div>\n"
            ],
            "application/vnd.google.colaboratory.intrinsic+json": {
              "type": "dataframe",
              "variable_name": "users_df",
              "summary": "{\n  \"name\": \"users_df\",\n  \"rows\": 504,\n  \"fields\": [\n    {\n      \"column\": \"login\",\n      \"properties\": {\n        \"dtype\": \"string\",\n        \"num_unique_values\": 504,\n        \"samples\": [\n          \"ERAMITDHOMNE\",\n          \"Vikr-182\",\n          \"AnirG\"\n        ],\n        \"semantic_type\": \"\",\n        \"description\": \"\"\n      }\n    },\n    {\n      \"column\": \"name\",\n      \"properties\": {\n        \"dtype\": \"string\",\n        \"num_unique_values\": 496,\n        \"samples\": [\n          \"Kiran Kumar Koorimi\",\n          \"Mohammed Ajmal Siddiqui\",\n          \"Akshat\"\n        ],\n        \"semantic_type\": \"\",\n        \"description\": \"\"\n      }\n    },\n    {\n      \"column\": \"company\",\n      \"properties\": {\n        \"dtype\": \"category\",\n        \"num_unique_values\": 248,\n        \"samples\": [\n          \"UIBRAINS TECHNOLOGIES\",\n          \"ASHOK IT\",\n          \"SIMPLEVIRALGAMES\"\n        ],\n        \"semantic_type\": \"\",\n        \"description\": \"\"\n      }\n    },\n    {\n      \"column\": \"location\",\n      \"properties\": {\n        \"dtype\": \"category\",\n        \"num_unique_values\": 53,\n        \"samples\": [\n          \"Hyderabad, India \",\n          \"Hyderabad , Sindh\",\n          \"Hyderabad,Telangana,India\"\n        ],\n        \"semantic_type\": \"\",\n        \"description\": \"\"\n      }\n    },\n    {\n      \"column\": \"email\",\n      \"properties\": {\n        \"dtype\": \"string\",\n        \"num_unique_values\": 264,\n        \"samples\": [\n          \"urvashi.officialcse@gmail.com\",\n          \"epoch@gymkhana.iith.ac.in\",\n          \"sanjushasuresh19@gmail.com\"\n        ],\n        \"semantic_type\": \"\",\n        \"description\": \"\"\n      }\n    },\n    {\n      \"column\": \"hireable\",\n      \"properties\": {\n        \"dtype\": \"category\",\n        \"num_unique_values\": 1,\n        \"samples\": [\n          true\n        ],\n        \"semantic_type\": \"\",\n        \"description\": \"\"\n      }\n    },\n    {\n      \"column\": \"bio\",\n      \"properties\": {\n        \"dtype\": \"string\",\n        \"num_unique_values\": 413,\n        \"samples\": [\n          \"prudentia est solum per passionem consummare\\r\\n\"\n        ],\n        \"semantic_type\": \"\",\n        \"description\": \"\"\n      }\n    },\n    {\n      \"column\": \"public_repos\",\n      \"properties\": {\n        \"dtype\": \"number\",\n        \"std\": 88,\n        \"min\": 0,\n        \"max\": 900,\n        \"num_unique_values\": 170,\n        \"samples\": [\n          126\n        ],\n        \"semantic_type\": \"\",\n        \"description\": \"\"\n      }\n    },\n    {\n      \"column\": \"followers\",\n      \"properties\": {\n        \"dtype\": \"number\",\n        \"std\": 983,\n        \"min\": 51,\n        \"max\": 16237,\n        \"num_unique_values\": 180,\n        \"samples\": [\n          511\n        ],\n        \"semantic_type\": \"\",\n        \"description\": \"\"\n      }\n    },\n    {\n      \"column\": \"following\",\n      \"properties\": {\n        \"dtype\": \"number\",\n        \"std\": 228,\n        \"min\": 0,\n        \"max\": 3069,\n        \"num_unique_values\": 177,\n        \"samples\": [\n          7\n        ],\n        \"semantic_type\": \"\",\n        \"description\": \"\"\n      }\n    },\n    {\n      \"column\": \"created_at\",\n      \"properties\": {\n        \"dtype\": \"object\",\n        \"num_unique_values\": 504,\n        \"samples\": [\n          \"2019-03-14T06:14:39Z\"\n        ],\n        \"semantic_type\": \"\",\n        \"description\": \"\"\n      }\n    }\n  ]\n}"
            }
          },
          "metadata": {},
          "execution_count": 27
        }
      ]
    },
    {
      "cell_type": "code",
      "source": [
        "users_df.shape"
      ],
      "metadata": {
        "colab": {
          "base_uri": "https://localhost:8080/"
        },
        "id": "l1_-CF1To2Dk",
        "outputId": "6609ee6d-abc9-4db8-a84e-4267039de3c1"
      },
      "execution_count": 28,
      "outputs": [
        {
          "output_type": "execute_result",
          "data": {
            "text/plain": [
              "(504, 11)"
            ]
          },
          "metadata": {},
          "execution_count": 28
        }
      ]
    },
    {
      "cell_type": "code",
      "source": [
        "repos_df.head()"
      ],
      "metadata": {
        "colab": {
          "base_uri": "https://localhost:8080/",
          "height": 293
        },
        "id": "lR-i1foCokbz",
        "outputId": "8436153a-0f27-4999-f331-58f80b6a9ee7"
      },
      "execution_count": 29,
      "outputs": [
        {
          "output_type": "execute_result",
          "data": {
            "text/plain": [
              "            login                             full_name            created_at  \\\n",
              "0  iam-veeramalla   iam-veeramalla/ansible-zero-to-hero  2024-05-15T12:27:58Z   \n",
              "1  iam-veeramalla                iam-veeramalla/argo-cd  2020-11-27T11:24:01Z   \n",
              "2  iam-veeramalla         iam-veeramalla/argo-perf-test  2022-05-25T11:51:37Z   \n",
              "3  iam-veeramalla          iam-veeramalla/argo-rollouts  2022-09-30T11:46:15Z   \n",
              "4  iam-veeramalla  iam-veeramalla/argo-rollouts-manager  2023-05-15T02:23:07Z   \n",
              "\n",
              "   stargazers_count  watchers_count language  has_projects  has_wiki  \\\n",
              "0               611             611     HTML          True     False   \n",
              "1               199             199      NaN          True      True   \n",
              "2                60              60      NaN          True      True   \n",
              "3                65              65      NaN          True     False   \n",
              "4                89              89      NaN          True      True   \n",
              "\n",
              "  license_name  \n",
              "0   apache-2.0  \n",
              "1   apache-2.0  \n",
              "2          NaN  \n",
              "3   apache-2.0  \n",
              "4   apache-2.0  "
            ],
            "text/html": [
              "\n",
              "  <div id=\"df-43bd2dac-7be6-4846-ae9e-8e6b747d4ec4\" class=\"colab-df-container\">\n",
              "    <div>\n",
              "<style scoped>\n",
              "    .dataframe tbody tr th:only-of-type {\n",
              "        vertical-align: middle;\n",
              "    }\n",
              "\n",
              "    .dataframe tbody tr th {\n",
              "        vertical-align: top;\n",
              "    }\n",
              "\n",
              "    .dataframe thead th {\n",
              "        text-align: right;\n",
              "    }\n",
              "</style>\n",
              "<table border=\"1\" class=\"dataframe\">\n",
              "  <thead>\n",
              "    <tr style=\"text-align: right;\">\n",
              "      <th></th>\n",
              "      <th>login</th>\n",
              "      <th>full_name</th>\n",
              "      <th>created_at</th>\n",
              "      <th>stargazers_count</th>\n",
              "      <th>watchers_count</th>\n",
              "      <th>language</th>\n",
              "      <th>has_projects</th>\n",
              "      <th>has_wiki</th>\n",
              "      <th>license_name</th>\n",
              "    </tr>\n",
              "  </thead>\n",
              "  <tbody>\n",
              "    <tr>\n",
              "      <th>0</th>\n",
              "      <td>iam-veeramalla</td>\n",
              "      <td>iam-veeramalla/ansible-zero-to-hero</td>\n",
              "      <td>2024-05-15T12:27:58Z</td>\n",
              "      <td>611</td>\n",
              "      <td>611</td>\n",
              "      <td>HTML</td>\n",
              "      <td>True</td>\n",
              "      <td>False</td>\n",
              "      <td>apache-2.0</td>\n",
              "    </tr>\n",
              "    <tr>\n",
              "      <th>1</th>\n",
              "      <td>iam-veeramalla</td>\n",
              "      <td>iam-veeramalla/argo-cd</td>\n",
              "      <td>2020-11-27T11:24:01Z</td>\n",
              "      <td>199</td>\n",
              "      <td>199</td>\n",
              "      <td>NaN</td>\n",
              "      <td>True</td>\n",
              "      <td>True</td>\n",
              "      <td>apache-2.0</td>\n",
              "    </tr>\n",
              "    <tr>\n",
              "      <th>2</th>\n",
              "      <td>iam-veeramalla</td>\n",
              "      <td>iam-veeramalla/argo-perf-test</td>\n",
              "      <td>2022-05-25T11:51:37Z</td>\n",
              "      <td>60</td>\n",
              "      <td>60</td>\n",
              "      <td>NaN</td>\n",
              "      <td>True</td>\n",
              "      <td>True</td>\n",
              "      <td>NaN</td>\n",
              "    </tr>\n",
              "    <tr>\n",
              "      <th>3</th>\n",
              "      <td>iam-veeramalla</td>\n",
              "      <td>iam-veeramalla/argo-rollouts</td>\n",
              "      <td>2022-09-30T11:46:15Z</td>\n",
              "      <td>65</td>\n",
              "      <td>65</td>\n",
              "      <td>NaN</td>\n",
              "      <td>True</td>\n",
              "      <td>False</td>\n",
              "      <td>apache-2.0</td>\n",
              "    </tr>\n",
              "    <tr>\n",
              "      <th>4</th>\n",
              "      <td>iam-veeramalla</td>\n",
              "      <td>iam-veeramalla/argo-rollouts-manager</td>\n",
              "      <td>2023-05-15T02:23:07Z</td>\n",
              "      <td>89</td>\n",
              "      <td>89</td>\n",
              "      <td>NaN</td>\n",
              "      <td>True</td>\n",
              "      <td>True</td>\n",
              "      <td>apache-2.0</td>\n",
              "    </tr>\n",
              "  </tbody>\n",
              "</table>\n",
              "</div>\n",
              "    <div class=\"colab-df-buttons\">\n",
              "\n",
              "  <div class=\"colab-df-container\">\n",
              "    <button class=\"colab-df-convert\" onclick=\"convertToInteractive('df-43bd2dac-7be6-4846-ae9e-8e6b747d4ec4')\"\n",
              "            title=\"Convert this dataframe to an interactive table.\"\n",
              "            style=\"display:none;\">\n",
              "\n",
              "  <svg xmlns=\"http://www.w3.org/2000/svg\" height=\"24px\" viewBox=\"0 -960 960 960\">\n",
              "    <path d=\"M120-120v-720h720v720H120Zm60-500h600v-160H180v160Zm220 220h160v-160H400v160Zm0 220h160v-160H400v160ZM180-400h160v-160H180v160Zm440 0h160v-160H620v160ZM180-180h160v-160H180v160Zm440 0h160v-160H620v160Z\"/>\n",
              "  </svg>\n",
              "    </button>\n",
              "\n",
              "  <style>\n",
              "    .colab-df-container {\n",
              "      display:flex;\n",
              "      gap: 12px;\n",
              "    }\n",
              "\n",
              "    .colab-df-convert {\n",
              "      background-color: #E8F0FE;\n",
              "      border: none;\n",
              "      border-radius: 50%;\n",
              "      cursor: pointer;\n",
              "      display: none;\n",
              "      fill: #1967D2;\n",
              "      height: 32px;\n",
              "      padding: 0 0 0 0;\n",
              "      width: 32px;\n",
              "    }\n",
              "\n",
              "    .colab-df-convert:hover {\n",
              "      background-color: #E2EBFA;\n",
              "      box-shadow: 0px 1px 2px rgba(60, 64, 67, 0.3), 0px 1px 3px 1px rgba(60, 64, 67, 0.15);\n",
              "      fill: #174EA6;\n",
              "    }\n",
              "\n",
              "    .colab-df-buttons div {\n",
              "      margin-bottom: 4px;\n",
              "    }\n",
              "\n",
              "    [theme=dark] .colab-df-convert {\n",
              "      background-color: #3B4455;\n",
              "      fill: #D2E3FC;\n",
              "    }\n",
              "\n",
              "    [theme=dark] .colab-df-convert:hover {\n",
              "      background-color: #434B5C;\n",
              "      box-shadow: 0px 1px 3px 1px rgba(0, 0, 0, 0.15);\n",
              "      filter: drop-shadow(0px 1px 2px rgba(0, 0, 0, 0.3));\n",
              "      fill: #FFFFFF;\n",
              "    }\n",
              "  </style>\n",
              "\n",
              "    <script>\n",
              "      const buttonEl =\n",
              "        document.querySelector('#df-43bd2dac-7be6-4846-ae9e-8e6b747d4ec4 button.colab-df-convert');\n",
              "      buttonEl.style.display =\n",
              "        google.colab.kernel.accessAllowed ? 'block' : 'none';\n",
              "\n",
              "      async function convertToInteractive(key) {\n",
              "        const element = document.querySelector('#df-43bd2dac-7be6-4846-ae9e-8e6b747d4ec4');\n",
              "        const dataTable =\n",
              "          await google.colab.kernel.invokeFunction('convertToInteractive',\n",
              "                                                    [key], {});\n",
              "        if (!dataTable) return;\n",
              "\n",
              "        const docLinkHtml = 'Like what you see? Visit the ' +\n",
              "          '<a target=\"_blank\" href=https://colab.research.google.com/notebooks/data_table.ipynb>data table notebook</a>'\n",
              "          + ' to learn more about interactive tables.';\n",
              "        element.innerHTML = '';\n",
              "        dataTable['output_type'] = 'display_data';\n",
              "        await google.colab.output.renderOutput(dataTable, element);\n",
              "        const docLink = document.createElement('div');\n",
              "        docLink.innerHTML = docLinkHtml;\n",
              "        element.appendChild(docLink);\n",
              "      }\n",
              "    </script>\n",
              "  </div>\n",
              "\n",
              "\n",
              "<div id=\"df-72632571-0e2e-42cd-9aea-b4a90db9eeb1\">\n",
              "  <button class=\"colab-df-quickchart\" onclick=\"quickchart('df-72632571-0e2e-42cd-9aea-b4a90db9eeb1')\"\n",
              "            title=\"Suggest charts\"\n",
              "            style=\"display:none;\">\n",
              "\n",
              "<svg xmlns=\"http://www.w3.org/2000/svg\" height=\"24px\"viewBox=\"0 0 24 24\"\n",
              "     width=\"24px\">\n",
              "    <g>\n",
              "        <path d=\"M19 3H5c-1.1 0-2 .9-2 2v14c0 1.1.9 2 2 2h14c1.1 0 2-.9 2-2V5c0-1.1-.9-2-2-2zM9 17H7v-7h2v7zm4 0h-2V7h2v10zm4 0h-2v-4h2v4z\"/>\n",
              "    </g>\n",
              "</svg>\n",
              "  </button>\n",
              "\n",
              "<style>\n",
              "  .colab-df-quickchart {\n",
              "      --bg-color: #E8F0FE;\n",
              "      --fill-color: #1967D2;\n",
              "      --hover-bg-color: #E2EBFA;\n",
              "      --hover-fill-color: #174EA6;\n",
              "      --disabled-fill-color: #AAA;\n",
              "      --disabled-bg-color: #DDD;\n",
              "  }\n",
              "\n",
              "  [theme=dark] .colab-df-quickchart {\n",
              "      --bg-color: #3B4455;\n",
              "      --fill-color: #D2E3FC;\n",
              "      --hover-bg-color: #434B5C;\n",
              "      --hover-fill-color: #FFFFFF;\n",
              "      --disabled-bg-color: #3B4455;\n",
              "      --disabled-fill-color: #666;\n",
              "  }\n",
              "\n",
              "  .colab-df-quickchart {\n",
              "    background-color: var(--bg-color);\n",
              "    border: none;\n",
              "    border-radius: 50%;\n",
              "    cursor: pointer;\n",
              "    display: none;\n",
              "    fill: var(--fill-color);\n",
              "    height: 32px;\n",
              "    padding: 0;\n",
              "    width: 32px;\n",
              "  }\n",
              "\n",
              "  .colab-df-quickchart:hover {\n",
              "    background-color: var(--hover-bg-color);\n",
              "    box-shadow: 0 1px 2px rgba(60, 64, 67, 0.3), 0 1px 3px 1px rgba(60, 64, 67, 0.15);\n",
              "    fill: var(--button-hover-fill-color);\n",
              "  }\n",
              "\n",
              "  .colab-df-quickchart-complete:disabled,\n",
              "  .colab-df-quickchart-complete:disabled:hover {\n",
              "    background-color: var(--disabled-bg-color);\n",
              "    fill: var(--disabled-fill-color);\n",
              "    box-shadow: none;\n",
              "  }\n",
              "\n",
              "  .colab-df-spinner {\n",
              "    border: 2px solid var(--fill-color);\n",
              "    border-color: transparent;\n",
              "    border-bottom-color: var(--fill-color);\n",
              "    animation:\n",
              "      spin 1s steps(1) infinite;\n",
              "  }\n",
              "\n",
              "  @keyframes spin {\n",
              "    0% {\n",
              "      border-color: transparent;\n",
              "      border-bottom-color: var(--fill-color);\n",
              "      border-left-color: var(--fill-color);\n",
              "    }\n",
              "    20% {\n",
              "      border-color: transparent;\n",
              "      border-left-color: var(--fill-color);\n",
              "      border-top-color: var(--fill-color);\n",
              "    }\n",
              "    30% {\n",
              "      border-color: transparent;\n",
              "      border-left-color: var(--fill-color);\n",
              "      border-top-color: var(--fill-color);\n",
              "      border-right-color: var(--fill-color);\n",
              "    }\n",
              "    40% {\n",
              "      border-color: transparent;\n",
              "      border-right-color: var(--fill-color);\n",
              "      border-top-color: var(--fill-color);\n",
              "    }\n",
              "    60% {\n",
              "      border-color: transparent;\n",
              "      border-right-color: var(--fill-color);\n",
              "    }\n",
              "    80% {\n",
              "      border-color: transparent;\n",
              "      border-right-color: var(--fill-color);\n",
              "      border-bottom-color: var(--fill-color);\n",
              "    }\n",
              "    90% {\n",
              "      border-color: transparent;\n",
              "      border-bottom-color: var(--fill-color);\n",
              "    }\n",
              "  }\n",
              "</style>\n",
              "\n",
              "  <script>\n",
              "    async function quickchart(key) {\n",
              "      const quickchartButtonEl =\n",
              "        document.querySelector('#' + key + ' button');\n",
              "      quickchartButtonEl.disabled = true;  // To prevent multiple clicks.\n",
              "      quickchartButtonEl.classList.add('colab-df-spinner');\n",
              "      try {\n",
              "        const charts = await google.colab.kernel.invokeFunction(\n",
              "            'suggestCharts', [key], {});\n",
              "      } catch (error) {\n",
              "        console.error('Error during call to suggestCharts:', error);\n",
              "      }\n",
              "      quickchartButtonEl.classList.remove('colab-df-spinner');\n",
              "      quickchartButtonEl.classList.add('colab-df-quickchart-complete');\n",
              "    }\n",
              "    (() => {\n",
              "      let quickchartButtonEl =\n",
              "        document.querySelector('#df-72632571-0e2e-42cd-9aea-b4a90db9eeb1 button');\n",
              "      quickchartButtonEl.style.display =\n",
              "        google.colab.kernel.accessAllowed ? 'block' : 'none';\n",
              "    })();\n",
              "  </script>\n",
              "</div>\n",
              "\n",
              "    </div>\n",
              "  </div>\n"
            ],
            "application/vnd.google.colaboratory.intrinsic+json": {
              "type": "dataframe",
              "variable_name": "repos_df",
              "summary": "{\n  \"name\": \"repos_df\",\n  \"rows\": 1704,\n  \"fields\": [\n    {\n      \"column\": \"login\",\n      \"properties\": {\n        \"dtype\": \"category\",\n        \"num_unique_values\": 29,\n        \"samples\": [\n          \"sitaramc\",\n          \"hindupuravinash\",\n          \"javabyraghu\"\n        ],\n        \"semantic_type\": \"\",\n        \"description\": \"\"\n      }\n    },\n    {\n      \"column\": \"full_name\",\n      \"properties\": {\n        \"dtype\": \"string\",\n        \"num_unique_values\": 1704,\n        \"samples\": [\n          \"janakiramm/hello-karyon-rxnetty\",\n          \"arvindr21/dockers\",\n          \"javabyraghu/Books\"\n        ],\n        \"semantic_type\": \"\",\n        \"description\": \"\"\n      }\n    },\n    {\n      \"column\": \"created_at\",\n      \"properties\": {\n        \"dtype\": \"object\",\n        \"num_unique_values\": 1704,\n        \"samples\": [\n          \"2017-07-01T13:22:05Z\",\n          \"2017-11-28T03:52:45Z\",\n          \"2024-07-18T12:32:43Z\"\n        ],\n        \"semantic_type\": \"\",\n        \"description\": \"\"\n      }\n    },\n    {\n      \"column\": \"stargazers_count\",\n      \"properties\": {\n        \"dtype\": \"number\",\n        \"std\": 686,\n        \"min\": 0,\n        \"max\": 15895,\n        \"num_unique_values\": 193,\n        \"samples\": [\n          61,\n          642,\n          8\n        ],\n        \"semantic_type\": \"\",\n        \"description\": \"\"\n      }\n    },\n    {\n      \"column\": \"watchers_count\",\n      \"properties\": {\n        \"dtype\": \"number\",\n        \"std\": 686,\n        \"min\": 0,\n        \"max\": 15895,\n        \"num_unique_values\": 193,\n        \"samples\": [\n          61,\n          642,\n          8\n        ],\n        \"semantic_type\": \"\",\n        \"description\": \"\"\n      }\n    },\n    {\n      \"column\": \"language\",\n      \"properties\": {\n        \"dtype\": \"category\",\n        \"num_unique_values\": 42,\n        \"samples\": [\n          \"Jupyter Notebook\",\n          \"C++\",\n          \"CSS\"\n        ],\n        \"semantic_type\": \"\",\n        \"description\": \"\"\n      }\n    },\n    {\n      \"column\": \"has_projects\",\n      \"properties\": {\n        \"dtype\": \"boolean\",\n        \"num_unique_values\": 1,\n        \"samples\": [\n          true\n        ],\n        \"semantic_type\": \"\",\n        \"description\": \"\"\n      }\n    },\n    {\n      \"column\": \"has_wiki\",\n      \"properties\": {\n        \"dtype\": \"boolean\",\n        \"num_unique_values\": 2,\n        \"samples\": [\n          true\n        ],\n        \"semantic_type\": \"\",\n        \"description\": \"\"\n      }\n    },\n    {\n      \"column\": \"license_name\",\n      \"properties\": {\n        \"dtype\": \"category\",\n        \"num_unique_values\": 18,\n        \"samples\": [\n          \"apache-2.0\"\n        ],\n        \"semantic_type\": \"\",\n        \"description\": \"\"\n      }\n    }\n  ]\n}"
            }
          },
          "metadata": {},
          "execution_count": 29
        }
      ]
    },
    {
      "cell_type": "code",
      "source": [
        "repos_df.shape"
      ],
      "metadata": {
        "colab": {
          "base_uri": "https://localhost:8080/"
        },
        "id": "YeBJdmVDo6yN",
        "outputId": "a3d4445a-d5f2-45b4-9379-29d8e40eae41"
      },
      "execution_count": 30,
      "outputs": [
        {
          "output_type": "execute_result",
          "data": {
            "text/plain": [
              "(1704, 9)"
            ]
          },
          "metadata": {},
          "execution_count": 30
        }
      ]
    },
    {
      "cell_type": "markdown",
      "source": [
        "### 1. Top 5 Users by Followers"
      ],
      "metadata": {
        "id": "L49Xvom4qotE"
      }
    },
    {
      "cell_type": "code",
      "source": [
        "top_5_followers = users_df.sort_values(by=\"followers\", ascending=False).head(5)[\"login\"].tolist()\n",
        "print(\",\".join(top_5_followers))"
      ],
      "metadata": {
        "colab": {
          "base_uri": "https://localhost:8080/"
        },
        "id": "E4b6dITBonl_",
        "outputId": "8d37c292-a1b2-4798-d34c-9a5075cf4bca"
      },
      "execution_count": 31,
      "outputs": [
        {
          "output_type": "stream",
          "name": "stdout",
          "text": [
            "iam-veeramalla,in28minutes,stacksimplify,thenaveensaggam,MadhavBahl\n"
          ]
        }
      ]
    },
    {
      "cell_type": "markdown",
      "source": [
        "### 2. 5 Earliest Registered GitHub Users"
      ],
      "metadata": {
        "id": "x6s4TWtjqwO0"
      }
    },
    {
      "cell_type": "code",
      "source": [
        "earliest_users = users_df.sort_values(by=\"created_at\").head(5)[\"login\"].tolist()\n",
        "print(\",\".join(earliest_users))"
      ],
      "metadata": {
        "colab": {
          "base_uri": "https://localhost:8080/"
        },
        "id": "0xy90sydpI7M",
        "outputId": "68073415-4173-4af3-b923-bcc926abe924"
      },
      "execution_count": 33,
      "outputs": [
        {
          "output_type": "stream",
          "name": "stdout",
          "text": [
            "shabda,sitaramc,bagwanpankaj,srikanthlogic,kulbirsaini\n"
          ]
        }
      ]
    },
    {
      "cell_type": "markdown",
      "source": [
        "### 3. 3 Most Popular Licenses"
      ],
      "metadata": {
        "id": "FgwoCl1gqzeY"
      }
    },
    {
      "cell_type": "code",
      "source": [
        "top_licenses = repos_df[\"license_name\"].dropna().value_counts().head(3).index.tolist()\n",
        "print(\",\".join(top_licenses))"
      ],
      "metadata": {
        "colab": {
          "base_uri": "https://localhost:8080/"
        },
        "id": "MGLW26oSpMrW",
        "outputId": "d70c34a6-806c-4803-ca0d-a690e031958f"
      },
      "execution_count": 34,
      "outputs": [
        {
          "output_type": "stream",
          "name": "stdout",
          "text": [
            "mit,apache-2.0,other\n"
          ]
        }
      ]
    },
    {
      "cell_type": "markdown",
      "source": [
        "### 4. Company with the Majority of Developers"
      ],
      "metadata": {
        "id": "ZAIDRbQ9q2g7"
      }
    },
    {
      "cell_type": "code",
      "source": [
        "common_company = users_df[\"company\"].value_counts().idxmax()\n",
        "print(common_company)"
      ],
      "metadata": {
        "colab": {
          "base_uri": "https://localhost:8080/"
        },
        "id": "tAdZ8DBppS3k",
        "outputId": "213b0ac8-bac6-40ae-979e-8a88d44200e7"
      },
      "execution_count": 35,
      "outputs": [
        {
          "output_type": "stream",
          "name": "stdout",
          "text": [
            "MICROSOFT\n"
          ]
        }
      ]
    },
    {
      "cell_type": "markdown",
      "source": [
        "### 5. Most Popular Programming Language"
      ],
      "metadata": {
        "id": "zMpGOCPoq5cN"
      }
    },
    {
      "cell_type": "code",
      "source": [
        "popular_language = repos_df[\"language\"].value_counts().idxmax()\n",
        "print(popular_language)"
      ],
      "metadata": {
        "colab": {
          "base_uri": "https://localhost:8080/"
        },
        "id": "f67HvjX_paH7",
        "outputId": "097bd02e-efca-4844-9c13-64ce1a3a9c7b"
      },
      "execution_count": 36,
      "outputs": [
        {
          "output_type": "stream",
          "name": "stdout",
          "text": [
            "JavaScript\n"
          ]
        }
      ]
    },
    {
      "cell_type": "markdown",
      "source": [
        "### 6. Second Most Popular Language Among Users Joined After 2020"
      ],
      "metadata": {
        "id": "MCAakTOIq8L0"
      }
    },
    {
      "cell_type": "code",
      "source": [
        "recent_users = users_df[pd.to_datetime(users_df[\"created_at\"]) > \"2020-01-01\"]\n",
        "popular_languages_recent = repos_df[repos_df[\"login\"].isin(recent_users[\"login\"])][\"language\"].value_counts()\n",
        "second_popular_language = popular_languages_recent.index[1] if len(popular_languages_recent) > 1 else \"\"\n",
        "print(second_popular_language)"
      ],
      "metadata": {
        "colab": {
          "base_uri": "https://localhost:8080/"
        },
        "id": "WMXpwgQypcu0",
        "outputId": "4443df8d-4180-4b20-97d8-675b20f7cea4"
      },
      "execution_count": 37,
      "outputs": [
        {
          "output_type": "stream",
          "name": "stdout",
          "text": [
            "HTML\n"
          ]
        }
      ]
    },
    {
      "cell_type": "markdown",
      "source": [
        "### 7.  Language with Highest Average Stars"
      ],
      "metadata": {
        "id": "qlvejLMZq-_z"
      }
    },
    {
      "cell_type": "code",
      "source": [
        "avg_stars_language = repos_df.groupby(\"language\")[\"stargazers_count\"].mean().idxmax()\n",
        "print(avg_stars_language)"
      ],
      "metadata": {
        "colab": {
          "base_uri": "https://localhost:8080/"
        },
        "id": "skhdElLIph-S",
        "outputId": "6139e2b3-d653-4458-c682-b646768aa7e0"
      },
      "execution_count": 38,
      "outputs": [
        {
          "output_type": "stream",
          "name": "stdout",
          "text": [
            "Perl\n"
          ]
        }
      ]
    },
    {
      "cell_type": "markdown",
      "source": [
        "### 8. Top 5 Users by Leader Strength"
      ],
      "metadata": {
        "id": "URwAq0hMrBve"
      }
    },
    {
      "cell_type": "code",
      "source": [
        "users_df[\"leader_strength\"] = users_df[\"followers\"] / (1 + users_df[\"following\"])\n",
        "top_leader_strength = users_df.sort_values(by=\"leader_strength\", ascending=False).head(5)[\"login\"].tolist()\n",
        "print(\",\".join(top_leader_strength))"
      ],
      "metadata": {
        "colab": {
          "base_uri": "https://localhost:8080/"
        },
        "id": "ruusi2LppnQF",
        "outputId": "33958d1b-4e13-4e32-9ae4-0165325d5f46"
      },
      "execution_count": 39,
      "outputs": [
        {
          "output_type": "stream",
          "name": "stdout",
          "text": [
            "in28minutes,iam-veeramalla,stacksimplify,ashokitschool,thenaveensaggam\n"
          ]
        }
      ]
    },
    {
      "cell_type": "markdown",
      "source": [
        "### 9. Correlation Between Followers and Public Repositories"
      ],
      "metadata": {
        "id": "mI4t5yuxrEWj"
      }
    },
    {
      "cell_type": "code",
      "source": [
        "followers_repos_corr, _ = pearsonr(users_df[\"followers\"], users_df[\"public_repos\"])\n",
        "print(f\"{followers_repos_corr:.3f}\")"
      ],
      "metadata": {
        "colab": {
          "base_uri": "https://localhost:8080/"
        },
        "id": "wAdGoXfPpqGc",
        "outputId": "9bb5376f-e7fa-4d14-f736-524c5e6e2bb1"
      },
      "execution_count": 40,
      "outputs": [
        {
          "output_type": "stream",
          "name": "stdout",
          "text": [
            "0.006\n"
          ]
        }
      ]
    },
    {
      "cell_type": "markdown",
      "source": [
        "### 10. Regression for Followers per Additional Repository"
      ],
      "metadata": {
        "id": "rs3k_B5TrJzS"
      }
    },
    {
      "cell_type": "code",
      "source": [
        "model = LinearRegression()\n",
        "model.fit(users_df[[\"public_repos\"]], users_df[\"followers\"])\n",
        "slope = model.coef_[0]\n",
        "print(f\"{slope:.3f}\")"
      ],
      "metadata": {
        "colab": {
          "base_uri": "https://localhost:8080/"
        },
        "id": "CLF9BteypwmC",
        "outputId": "8940da00-577b-4347-90c3-3ddaa82a7e37"
      },
      "execution_count": 41,
      "outputs": [
        {
          "output_type": "stream",
          "name": "stdout",
          "text": [
            "0.070\n"
          ]
        }
      ]
    },
    {
      "cell_type": "markdown",
      "source": [
        "### 11. Correlation Between Projects and Wiki Enabled"
      ],
      "metadata": {
        "id": "SLALhDMxrL0W"
      }
    },
    {
      "cell_type": "code",
      "source": [
        "projects_wiki_corr, _ = pearsonr(repos_df[\"has_projects\"].astype(int), repos_df[\"has_wiki\"].astype(int))\n",
        "print(f\"{projects_wiki_corr:.3f}\")"
      ],
      "metadata": {
        "colab": {
          "base_uri": "https://localhost:8080/"
        },
        "id": "AfQc8YHep5vK",
        "outputId": "f9d25206-b727-4504-ca8b-50c9c8bf97f0"
      },
      "execution_count": 42,
      "outputs": [
        {
          "output_type": "stream",
          "name": "stdout",
          "text": [
            "nan\n"
          ]
        },
        {
          "output_type": "stream",
          "name": "stderr",
          "text": [
            "<ipython-input-42-b4b82635c13c>:1: ConstantInputWarning: An input array is constant; the correlation coefficient is not defined.\n",
            "  projects_wiki_corr, _ = pearsonr(repos_df[\"has_projects\"].astype(int), repos_df[\"has_wiki\"].astype(int))\n"
          ]
        }
      ]
    },
    {
      "cell_type": "markdown",
      "source": [
        "### 12. Difference in Average Following for Hireable Users"
      ],
      "metadata": {
        "id": "yxYGVud2rPUz"
      }
    },
    {
      "cell_type": "code",
      "source": [
        "hireable_following_diff = users_df[users_df[\"hireable\"] == True][\"following\"].mean() - users_df[users_df[\"hireable\"] == False][\"following\"].mean()\n",
        "print(f\"{hireable_following_diff:.3f}\")"
      ],
      "metadata": {
        "colab": {
          "base_uri": "https://localhost:8080/"
        },
        "id": "qjUyK8ulqAFQ",
        "outputId": "2c3dc3ee-78e1-4482-81de-21c798618932"
      },
      "execution_count": 43,
      "outputs": [
        {
          "output_type": "stream",
          "name": "stdout",
          "text": [
            "nan\n"
          ]
        }
      ]
    },
    {
      "cell_type": "markdown",
      "source": [
        "### 13. Followers Impact by Bio Length"
      ],
      "metadata": {
        "id": "pR4YUzZjrSiE"
      }
    },
    {
      "cell_type": "code",
      "source": [
        "users_df[\"bio_word_count\"] = users_df[\"bio\"].fillna(\"\").apply(lambda x: len(x.split()))\n",
        "filtered_users = users_df[users_df[\"bio_word_count\"] > 0]\n",
        "model = LinearRegression()\n",
        "model.fit(filtered_users[[\"bio_word_count\"]], filtered_users[\"followers\"])\n",
        "bio_slope = model.coef_[0]\n",
        "print(f\"{bio_slope:.3f}\")"
      ],
      "metadata": {
        "colab": {
          "base_uri": "https://localhost:8080/"
        },
        "id": "vCmqUJOSqFa1",
        "outputId": "3bcca2cc-630b-4b56-f559-5691ed2c6db0"
      },
      "execution_count": 44,
      "outputs": [
        {
          "output_type": "stream",
          "name": "stdout",
          "text": [
            "8.391\n"
          ]
        }
      ]
    },
    {
      "cell_type": "markdown",
      "source": [
        "### 14. Top 5 Users with Most Repos Created on Weekends"
      ],
      "metadata": {
        "id": "EpmW3FtcrVZz"
      }
    },
    {
      "cell_type": "code",
      "source": [
        "repos_df[\"created_at\"] = pd.to_datetime(repos_df[\"created_at\"])\n",
        "weekend_repos = repos_df[repos_df[\"created_at\"].dt.weekday >= 5][\"login\"].value_counts().head(5).index.tolist()\n",
        "print(\",\".join(weekend_repos))"
      ],
      "metadata": {
        "colab": {
          "base_uri": "https://localhost:8080/"
        },
        "id": "k7dZ2y3LqKA1",
        "outputId": "646aeff6-d42b-405a-e389-30009ad17df0"
      },
      "execution_count": 45,
      "outputs": [
        {
          "output_type": "stream",
          "name": "stdout",
          "text": [
            "aadhar54,erilyth,MadhavBahl,ashokitschool,arvindr21\n"
          ]
        }
      ]
    },
    {
      "cell_type": "markdown",
      "source": [
        "### 15. Hireable Users Sharing Emails More Often"
      ],
      "metadata": {
        "id": "LLK7W9iVrYcL"
      }
    },
    {
      "cell_type": "code",
      "source": [
        "email_hireable = users_df[users_df[\"hireable\"] == True][\"email\"].notnull().mean()\n",
        "email_non_hireable = users_df[users_df[\"hireable\"] == False][\"email\"].notnull().mean()\n",
        "email_fraction_diff = email_hireable - email_non_hireable\n",
        "print(f\"{email_fraction_diff:.3f}\")"
      ],
      "metadata": {
        "colab": {
          "base_uri": "https://localhost:8080/"
        },
        "id": "0ms8wSBWqPiM",
        "outputId": "0c3c18c0-81bd-4b05-bd01-5ce67c0e6683"
      },
      "execution_count": 46,
      "outputs": [
        {
          "output_type": "stream",
          "name": "stdout",
          "text": [
            "nan\n"
          ]
        }
      ]
    },
    {
      "cell_type": "markdown",
      "source": [
        "### 16. Most Common Surname"
      ],
      "metadata": {
        "id": "zctjIuxTrcat"
      }
    },
    {
      "cell_type": "code",
      "source": [
        "users_df[\"surname\"] = users_df[\"name\"].dropna().apply(lambda x: x.strip().split()[-1])\n",
        "common_surnames = users_df[\"surname\"].value_counts()\n",
        "most_common_surname = common_surnames[common_surnames == common_surnames.max()].index.tolist()\n",
        "print(\",\".join(sorted(most_common_surname)))\n"
      ],
      "metadata": {
        "colab": {
          "base_uri": "https://localhost:8080/"
        },
        "id": "0YXrcMKXqWdt",
        "outputId": "0e127dfe-be0b-437c-9698-a50dc1698ce1"
      },
      "execution_count": 47,
      "outputs": [
        {
          "output_type": "stream",
          "name": "stdout",
          "text": [
            "Kumar\n"
          ]
        }
      ]
    }
  ]
}